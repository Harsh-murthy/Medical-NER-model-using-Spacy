{
  "nbformat": 4,
  "nbformat_minor": 0,
  "metadata": {
    "colab": {
      "provenance": [],
      "authorship_tag": "ABX9TyOLRTvrzectQactJ/RCKFij",
      "include_colab_link": true
    },
    "kernelspec": {
      "name": "python3",
      "display_name": "Python 3"
    },
    "language_info": {
      "name": "python"
    }
  },
  "cells": [
    {
      "cell_type": "markdown",
      "metadata": {
        "id": "view-in-github",
        "colab_type": "text"
      },
      "source": [
        "<a href=\"https://colab.research.google.com/github/Harsh-murthy/Medical-NER-model-using-Spacy/blob/main/Medical_NER_Project.ipynb\" target=\"_parent\"><img src=\"https://colab.research.google.com/assets/colab-badge.svg\" alt=\"Open In Colab\"/></a>"
      ]
    },
    {
      "cell_type": "markdown",
      "source": [
        "# Medical NER Project using SpaCy\n",
        "\n",
        "This project trains a Named Entity Recognition (NER) model to identify medical entities such as diseases, symptoms, and medications from clinical text using SpaCy.\n",
        "\n",
        "\n"
      ],
      "metadata": {
        "id": "ZnwxMLn2wFme"
      }
    },
    {
      "cell_type": "markdown",
      "source": [
        "##Import Necessary Libraries"
      ],
      "metadata": {
        "id": "E5LH1PlgxR8i"
      }
    },
    {
      "cell_type": "code",
      "source": [
        "import numpy as np\n",
        "import pandas as pd\n",
        "\n",
        "import matplotlib.pyplot as plt\n",
        "import seaborn as sns\n",
        "\n",
        "import warnings\n",
        "warnings.filterwarnings('ignore')\n",
        "\n",
        "import nltk\n",
        "import spacy\n",
        "from spacy.tokens import DocBin\n",
        "from tqdm import tqdm\n"
      ],
      "metadata": {
        "id": "WnPl0zmikI91"
      },
      "execution_count": 30,
      "outputs": []
    },
    {
      "cell_type": "markdown",
      "source": [
        "Import the Medical Ner Dataset from Kaggle"
      ],
      "metadata": {
        "id": "c-V9JSAjxZlu"
      }
    },
    {
      "cell_type": "code",
      "source": [
        "import os\n",
        "for dirname , _, filenames in os.walk('/kaggle/input'):\n",
        "    for filename in filenames:\n",
        "        print(os.path.join(dirname, filename))"
      ],
      "metadata": {
        "colab": {
          "base_uri": "https://localhost:8080/"
        },
        "id": "7MGVxg-4ketm",
        "outputId": "94962018-11f3-4c2c-aa5a-5eb467efe2f5"
      },
      "execution_count": 31,
      "outputs": [
        {
          "output_type": "stream",
          "name": "stdout",
          "text": [
            "/kaggle/input/medical-ner/Corona2.json\n"
          ]
        }
      ]
    },
    {
      "cell_type": "code",
      "source": [
        "import kagglehub\n",
        "\n",
        "# Download latest version\n",
        "path = kagglehub.dataset_download(\"finalepoch/medical-ner\")\n",
        "\n",
        "print(\"Path to dataset files:\", path)"
      ],
      "metadata": {
        "colab": {
          "base_uri": "https://localhost:8080/"
        },
        "id": "uR4Iq9TBkm2y",
        "outputId": "46dc8ca0-791b-491d-b8c9-8c30655703ef"
      },
      "execution_count": 32,
      "outputs": [
        {
          "output_type": "stream",
          "name": "stdout",
          "text": [
            "Path to dataset files: /kaggle/input/medical-ner\n"
          ]
        }
      ]
    },
    {
      "cell_type": "code",
      "source": [
        "#load the data\n",
        "data = pd.read_json('/kaggle/input/medical-ner/Corona2.json')"
      ],
      "metadata": {
        "id": "6irvzB2_lCFv"
      },
      "execution_count": 33,
      "outputs": []
    },
    {
      "cell_type": "markdown",
      "source": [
        "##Profile the data check the contents annotations and entities"
      ],
      "metadata": {
        "id": "4gM-6itKxkeE"
      }
    },
    {
      "cell_type": "code",
      "source": [
        "data['examples'][0]['content']"
      ],
      "metadata": {
        "colab": {
          "base_uri": "https://localhost:8080/",
          "height": 127
        },
        "id": "2PlN3RjElHIe",
        "outputId": "e1e55105-e1dc-4e28-bb9c-2ceabe79ccf3"
      },
      "execution_count": 34,
      "outputs": [
        {
          "output_type": "execute_result",
          "data": {
            "text/plain": [
              "\"While bismuth compounds (Pepto-Bismol) decreased the number of bowel movements in those with travelers' diarrhea, they do not decrease the length of illness.[91] Anti-motility agents like loperamide are also effective at reducing the number of stools but not the duration of disease.[8] These agents should be used only if bloody diarrhea is not present.[92]\\n\\nDiosmectite, a natural aluminomagnesium silicate clay, is effective in alleviating symptoms of acute diarrhea in children,[93] and also has some effects in chronic functional diarrhea, radiation-induced diarrhea, and chemotherapy-induced diarrhea.[45] Another absorbent agent used for the treatment of mild diarrhea is kaopectate.\\n\\nRacecadotril an antisecretory medication may be used to treat diarrhea in children and adults.[86] It has better tolerability than loperamide, as it causes less constipation and flatulence.[94]\""
            ],
            "application/vnd.google.colaboratory.intrinsic+json": {
              "type": "string"
            }
          },
          "metadata": {},
          "execution_count": 34
        }
      ]
    },
    {
      "cell_type": "code",
      "source": [
        "data['examples'][0]['annotations'][0]"
      ],
      "metadata": {
        "colab": {
          "base_uri": "https://localhost:8080/"
        },
        "id": "QfZMpIx4lmto",
        "outputId": "2123e79c-3296-4502-fca4-404a4b3ad1ef"
      },
      "execution_count": 35,
      "outputs": [
        {
          "output_type": "execute_result",
          "data": {
            "text/plain": [
              "{'id': '0825a1bf-6a6e-4fa2-be77-8d104701eaed',\n",
              " 'tag_id': 'c06bd022-6ded-44a5-8d90-f17685bb85a1',\n",
              " 'end': 371,\n",
              " 'start': 360,\n",
              " 'example_id': '18c2f619-f102-452f-ab81-d26f7e283ffe',\n",
              " 'tag_name': 'Medicine',\n",
              " 'value': 'Diosmectite',\n",
              " 'correct': None,\n",
              " 'human_annotations': [{'timestamp': '2020-03-21T00:24:32.098000Z',\n",
              "   'annotator_id': 1,\n",
              "   'tagged_token_id': '0825a1bf-6a6e-4fa2-be77-8d104701eaed',\n",
              "   'name': 'Ashpat123',\n",
              "   'reason': 'exploration'}],\n",
              " 'model_annotations': []}"
            ]
          },
          "metadata": {},
          "execution_count": 35
        }
      ]
    },
    {
      "cell_type": "code",
      "source": [
        "#Process the data and build the training dataset\n",
        "training_data = [{'text': example['content'],\n",
        "                  'entities': [(annotation['start'], annotation['end'], annotation['tag_name'].upper())\n",
        "                               for annotation in example['annotations']]}\n",
        "                 for example in data['examples']]"
      ],
      "metadata": {
        "id": "3TONPCKtl7_S"
      },
      "execution_count": 36,
      "outputs": []
    },
    {
      "cell_type": "code",
      "source": [
        "training_data[0]['entities']"
      ],
      "metadata": {
        "colab": {
          "base_uri": "https://localhost:8080/"
        },
        "id": "_qYVRo2HmCsH",
        "outputId": "7c615a43-c270-445d-ac77-1b0bfc586a4d"
      },
      "execution_count": 37,
      "outputs": [
        {
          "output_type": "execute_result",
          "data": {
            "text/plain": [
              "[(360, 371, 'MEDICINE'),\n",
              " (383, 408, 'MEDICINE'),\n",
              " (104, 112, 'MEDICALCONDITION'),\n",
              " (679, 689, 'MEDICINE'),\n",
              " (6, 23, 'MEDICINE'),\n",
              " (25, 37, 'MEDICINE'),\n",
              " (461, 470, 'MEDICALCONDITION'),\n",
              " (577, 589, 'MEDICINE'),\n",
              " (853, 865, 'MEDICALCONDITION'),\n",
              " (188, 198, 'MEDICINE'),\n",
              " (754, 762, 'MEDICALCONDITION'),\n",
              " (870, 880, 'MEDICALCONDITION'),\n",
              " (823, 833, 'MEDICINE'),\n",
              " (852, 853, 'MEDICALCONDITION'),\n",
              " (461, 469, 'MEDICALCONDITION'),\n",
              " (535, 543, 'MEDICALCONDITION'),\n",
              " (692, 704, 'MEDICINE'),\n",
              " (563, 571, 'MEDICALCONDITION')]"
            ]
          },
          "metadata": {},
          "execution_count": 37
        }
      ]
    },
    {
      "cell_type": "code",
      "source": [
        "training_data[0]['text'][563:571]"
      ],
      "metadata": {
        "colab": {
          "base_uri": "https://localhost:8080/",
          "height": 36
        },
        "id": "xGwxSnncmEAj",
        "outputId": "5485ddd3-ffd7-4ef7-c2d4-d1eac4f7a63c"
      },
      "execution_count": 38,
      "outputs": [
        {
          "output_type": "execute_result",
          "data": {
            "text/plain": [
              "'diarrhea'"
            ],
            "application/vnd.google.colaboratory.intrinsic+json": {
              "type": "string"
            }
          },
          "metadata": {},
          "execution_count": 38
        }
      ]
    },
    {
      "cell_type": "markdown",
      "source": [
        "##Import a blank Spacy model"
      ],
      "metadata": {
        "id": "gTposeSpyIBU"
      }
    },
    {
      "cell_type": "code",
      "source": [
        "nlp = spacy.blank(\"en\")\n",
        "doc_bin = DocBin()"
      ],
      "metadata": {
        "id": "RDbjUDAJmPf-"
      },
      "execution_count": 39,
      "outputs": []
    },
    {
      "cell_type": "code",
      "source": [
        "#Convert the data into a doc.bin object and save the training file as train.spacy\n",
        "\n",
        "from spacy.util import filter_spans\n",
        "\n",
        "for training_example in tqdm(training_data):\n",
        "    text = training_example['text']\n",
        "    labels = training_example['entities']\n",
        "    doc = nlp.make_doc(text)\n",
        "    ents = []\n",
        "    for start, end, label in labels:\n",
        "        span = doc.char_span(start, end, label=label, alignment_mode=\"contract\")\n",
        "        if span is None:\n",
        "            print(\"Skipping entity\")\n",
        "        else:\n",
        "            ents.append(span)\n",
        "    filtered_ents = filter_spans(ents)\n",
        "    doc.set_ents(filtered_ents)\n",
        "    doc_bin.add(doc)\n",
        "\n",
        "doc_bin.to_disk(\"train.spacy\")"
      ],
      "metadata": {
        "colab": {
          "base_uri": "https://localhost:8080/"
        },
        "id": "pBogquZ9mWDe",
        "outputId": "52f01938-ad7c-4610-a5ee-67ddd9e11500"
      },
      "execution_count": 40,
      "outputs": [
        {
          "output_type": "stream",
          "name": "stderr",
          "text": [
            "100%|██████████| 31/31 [00:00<00:00, 448.69it/s]"
          ]
        },
        {
          "output_type": "stream",
          "name": "stdout",
          "text": [
            "Skipping entity\n",
            "Skipping entity\n",
            "Skipping entity\n",
            "Skipping entity\n",
            "Skipping entity\n",
            "Skipping entity\n",
            "Skipping entity\n",
            "Skipping entity\n",
            "Skipping entity\n",
            "Skipping entity\n",
            "Skipping entity\n",
            "Skipping entity\n",
            "Skipping entity\n",
            "Skipping entity\n",
            "Skipping entity\n",
            "Skipping entity\n"
          ]
        },
        {
          "output_type": "stream",
          "name": "stderr",
          "text": [
            "\n"
          ]
        }
      ]
    },
    {
      "cell_type": "markdown",
      "source": [
        "###import the base_config file from spacy\n",
        "\n",
        "https://spacy.io/usage/training\n",
        "![image.png](data:image/png;base64,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)"
      ],
      "metadata": {
        "id": "B6XQHyjnnszO"
      }
    },
    {
      "cell_type": "markdown",
      "source": [
        "Select the paramenters and fill the config fille using the below command"
      ],
      "metadata": {
        "id": "G5fpRwV9ymw4"
      }
    },
    {
      "cell_type": "code",
      "source": [
        "!python -m spacy init fill-config base_config.cfg config.cfg"
      ],
      "metadata": {
        "colab": {
          "base_uri": "https://localhost:8080/"
        },
        "id": "BIsyYL1Zmvci",
        "outputId": "0bbb256d-bc3e-48e4-c959-5c27ad8b01ea"
      },
      "execution_count": 41,
      "outputs": [
        {
          "output_type": "stream",
          "name": "stdout",
          "text": [
            "\u001b[38;5;2m✔ Auto-filled config with all values\u001b[0m\n",
            "\u001b[38;5;2m✔ Saved config\u001b[0m\n",
            "config.cfg\n",
            "You can now add your data and train your pipeline:\n",
            "python -m spacy train config.cfg --paths.train ./train.spacy --paths.dev ./dev.spacy\n"
          ]
        }
      ]
    },
    {
      "cell_type": "markdown",
      "source": [
        "##Initate the training pipeline"
      ],
      "metadata": {
        "id": "edC_v_rxyyU_"
      }
    },
    {
      "cell_type": "code",
      "source": [
        "! python -m spacy train config.cfg --output ./ --paths.train ./train.spacy --paths.dev ./train.spacy\n"
      ],
      "metadata": {
        "colab": {
          "base_uri": "https://localhost:8080/"
        },
        "id": "EggGTJ15oU__",
        "outputId": "56730ecc-bee0-4818-d8d3-3bacf0822212"
      },
      "execution_count": 44,
      "outputs": [
        {
          "output_type": "stream",
          "name": "stdout",
          "text": [
            "\u001b[38;5;4mℹ Saving to output directory: .\u001b[0m\n",
            "\u001b[38;5;4mℹ Using CPU\u001b[0m\n",
            "\u001b[1m\n",
            "=========================== Initializing pipeline ===========================\u001b[0m\n",
            "\u001b[38;5;2m✔ Initialized pipeline\u001b[0m\n",
            "\u001b[1m\n",
            "============================= Training pipeline =============================\u001b[0m\n",
            "\u001b[38;5;4mℹ Pipeline: ['tok2vec', 'ner']\u001b[0m\n",
            "\u001b[38;5;4mℹ Initial learn rate: 0.001\u001b[0m\n",
            "E    #       LOSS TOK2VEC  LOSS NER  ENTS_F  ENTS_P  ENTS_R  SCORE \n",
            "---  ------  ------------  --------  ------  ------  ------  ------\n",
            "  0       0          0.00    153.29    0.00    0.00    0.00    0.00\n",
            "  7     200        734.85   3155.29   76.73   79.66   74.02    0.77\n",
            " 14     400        669.55    734.48   97.24   97.24   97.24    0.97\n",
            " 22     600        945.17    272.49   98.03   98.03   98.03    0.98\n",
            " 30     800        188.78    219.05   98.23   98.04   98.43    0.98\n",
            " 40    1000        224.41    192.51   98.41   99.20   97.64    0.98\n",
            " 51    1200        206.75    185.68   98.24   97.67   98.82    0.98\n",
            " 65    1400        142.57    143.77   98.43   98.43   98.43    0.98\n",
            " 81    1600        132.46    167.75   98.23   98.04   98.43    0.98\n",
            "101    1800       3742.49    248.50   98.43   98.05   98.82    0.98\n",
            "127    2000        121.44    217.56   98.43   98.43   98.43    0.98\n",
            "159    2200        177.33    245.35   98.62   98.43   98.82    0.99\n",
            "198    2400        421.83    260.98   98.82   98.44   99.21    0.99\n",
            "246    2600         97.26    269.22   98.81   99.21   98.43    0.99\n",
            "295    2800        140.40    277.83   98.82   98.44   99.21    0.99\n",
            "345    3000        120.68    279.61   98.82   98.44   99.21    0.99\n",
            "393    3200        174.15    268.27   98.82   98.82   98.82    0.99\n",
            "443    3400        138.91    268.67   98.81   99.21   98.43    0.99\n",
            "492    3600        533.68    259.68   98.81   99.21   98.43    0.99\n",
            "541    3800        110.02    253.92   98.81   99.21   98.43    0.99\n",
            "590    4000         55.16    243.94   98.81   99.21   98.43    0.99\n",
            "\u001b[38;5;2m✔ Saved pipeline to output directory\u001b[0m\n",
            "model-last\n"
          ]
        }
      ]
    },
    {
      "cell_type": "markdown",
      "source": [
        "##Model Testing"
      ],
      "metadata": {
        "id": "5hH7326tvkFZ"
      }
    },
    {
      "cell_type": "code",
      "source": [
        "nlp_trained_model = spacy.load(\"Medical-NER model\")"
      ],
      "metadata": {
        "id": "Rfy3BsJKv0YL"
      },
      "execution_count": 46,
      "outputs": []
    },
    {
      "cell_type": "code",
      "source": [
        "\n",
        "\n",
        "doc = nlp_trained_model('''\n",
        "The patient was prescribed Aspirin for their heart condition.\n",
        "The doctor recommended Ibuprofen to alleviate the patient's headache.\n",
        "The patient is suffering from diabetes, and they need to take Metformin regularly.\n",
        "After the surgery, the patient experienced some post-operative complications, including infection.\n",
        "The patient is currently on a regimen of Lisinopril to manage their high blood pressure.\n",
        "The antibiotic course for treating the bacterial infection should be completed as prescribed.\n",
        "The patient's insulin dosage needs to be adjusted to better control their blood sugar levels.\n",
        "The physician suspects that the patient may have pneumonia and has ordered a chest X-ray.\n",
        "The patient's cholesterol levels are high, and they have been advised to take Atorvastatin.\n",
        "The allergy to penicillin was noted in the patient's medical history.\n",
        "''')"
      ],
      "metadata": {
        "id": "vgBuww-tvhvV"
      },
      "execution_count": 47,
      "outputs": []
    },
    {
      "cell_type": "code",
      "source": [
        "spacy.displacy.render(doc, style=\"ent\", jupyter=True)"
      ],
      "metadata": {
        "colab": {
          "base_uri": "https://localhost:8080/",
          "height": 402
        },
        "id": "wlPxekiEvk_k",
        "outputId": "b6f87f74-0f6d-43e0-e2c5-c655e7fda5e1"
      },
      "execution_count": 48,
      "outputs": [
        {
          "output_type": "display_data",
          "data": {
            "text/plain": [
              "<IPython.core.display.HTML object>"
            ],
            "text/html": [
              "<span class=\"tex2jax_ignore\"><div class=\"entities\" style=\"line-height: 2.5; direction: ltr\"><br>The patient was prescribed Aspirin for their heart condition.<br>The doctor recommended Ibuprofen to alleviate the patient's \n",
              "<mark class=\"entity\" style=\"background: #ddd; padding: 0.45em 0.6em; margin: 0 0.25em; line-height: 1; border-radius: 0.35em;\">\n",
              "    headache\n",
              "    <span style=\"font-size: 0.8em; font-weight: bold; line-height: 1; border-radius: 0.35em; vertical-align: middle; margin-left: 0.5rem\">MEDICALCONDITION</span>\n",
              "</mark>\n",
              ".<br>The patient is \n",
              "<mark class=\"entity\" style=\"background: #ddd; padding: 0.45em 0.6em; margin: 0 0.25em; line-height: 1; border-radius: 0.35em;\">\n",
              "    suffering\n",
              "    <span style=\"font-size: 0.8em; font-weight: bold; line-height: 1; border-radius: 0.35em; vertical-align: middle; margin-left: 0.5rem\">MEDICALCONDITION</span>\n",
              "</mark>\n",
              " from diabetes, and they need to take Metformin regularly.<br>After the surgery, the patient experienced some post-operative complications, including infection.<br>The patient is currently on a regimen of Lisinopril to manage their high blood pressure.<br>The antibiotic course for treating the bacterial infection should be completed as \n",
              "<mark class=\"entity\" style=\"background: #ddd; padding: 0.45em 0.6em; margin: 0 0.25em; line-height: 1; border-radius: 0.35em;\">\n",
              "    prescribed\n",
              "    <span style=\"font-size: 0.8em; font-weight: bold; line-height: 1; border-radius: 0.35em; vertical-align: middle; margin-left: 0.5rem\">MEDICALCONDITION</span>\n",
              "</mark>\n",
              ".<br>The patient's \n",
              "<mark class=\"entity\" style=\"background: #ddd; padding: 0.45em 0.6em; margin: 0 0.25em; line-height: 1; border-radius: 0.35em;\">\n",
              "    insulin\n",
              "    <span style=\"font-size: 0.8em; font-weight: bold; line-height: 1; border-radius: 0.35em; vertical-align: middle; margin-left: 0.5rem\">MEDICINE</span>\n",
              "</mark>\n",
              " dosage needs to be adjusted to better control their blood sugar levels.<br>The physician suspects that the patient may have pneumonia and has ordered a \n",
              "<mark class=\"entity\" style=\"background: #ddd; padding: 0.45em 0.6em; margin: 0 0.25em; line-height: 1; border-radius: 0.35em;\">\n",
              "    chest X\n",
              "    <span style=\"font-size: 0.8em; font-weight: bold; line-height: 1; border-radius: 0.35em; vertical-align: middle; margin-left: 0.5rem\">MEDICALCONDITION</span>\n",
              "</mark>\n",
              "-ray.<br>The patient's cholesterol levels are high, and they have been advised to take \n",
              "<mark class=\"entity\" style=\"background: #ddd; padding: 0.45em 0.6em; margin: 0 0.25em; line-height: 1; border-radius: 0.35em;\">\n",
              "    Atorvastatin\n",
              "    <span style=\"font-size: 0.8em; font-weight: bold; line-height: 1; border-radius: 0.35em; vertical-align: middle; margin-left: 0.5rem\">MEDICINE</span>\n",
              "</mark>\n",
              ".<br>The allergy to \n",
              "<mark class=\"entity\" style=\"background: #ddd; padding: 0.45em 0.6em; margin: 0 0.25em; line-height: 1; border-radius: 0.35em;\">\n",
              "    penicillin\n",
              "    <span style=\"font-size: 0.8em; font-weight: bold; line-height: 1; border-radius: 0.35em; vertical-align: middle; margin-left: 0.5rem\">MEDICINE</span>\n",
              "</mark>\n",
              " was noted in the patient's medical history.<br></div></span>"
            ]
          },
          "metadata": {}
        }
      ]
    },
    {
      "cell_type": "markdown",
      "source": [
        "##The NER model is able to identify entities like different Medical conditions and medicines from th text"
      ],
      "metadata": {
        "id": "i7X1X_G9v6-N"
      }
    },
    {
      "cell_type": "code",
      "source": [],
      "metadata": {
        "id": "Z3X18SS0zJA5"
      },
      "execution_count": null,
      "outputs": []
    }
  ]
}